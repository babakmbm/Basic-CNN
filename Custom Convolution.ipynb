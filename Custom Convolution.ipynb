{
 "cells": [
  {
   "cell_type": "code",
   "execution_count": 6,
   "metadata": {},
   "outputs": [],
   "source": [
    "import numpy as np\n",
    "import matplotlib.pyplot as plt\n",
    "import matplotlib.image as mpimg\n",
    "from datetime import datetime\n",
    "\n",
    "def convole2d(X, W):\n",
    "    t0 = datetime.now()\n",
    "    n1, n2 = X.shape\n",
    "    m1, m2 = W.shape\n",
    "    Y = np.zeros((n1+m1 - 1, n2+m2-1))\n",
    "    for i in range(n1+m1-1):\n",
    "        for ii in range(m1):\n",
    "            for j in range(n2+m2-1):\n",
    "                if i>ii and j>=jj and i-ii<n1 and j-jj<n2:\n",
    "                    y[i,j] += w[ii, jj] * X[i-ii,j-jj]\n",
    "    print ('Elapsed time:', (datetime.now() - t0))\n",
    "    return Y"
   ]
  },
  {
   "cell_type": "code",
   "execution_count": 7,
   "metadata": {},
   "outputs": [],
   "source": [
    "# Optimized\n",
    "def convole2dopt(X, W):\n",
    "    t0 = datetime.now()\n",
    "    n1, n2 = X.shape\n",
    "    m1, m2 = W.shape\n",
    "    Y = np.zeros((n1+m1 - 1, n2+m2-1))\n",
    "    for i in range(n1):\n",
    "        for j in range(n2):\n",
    "            y[i:i+m1,j:j+m1] += X[i,j]*W\n",
    "    print ('Elapsed time:', (datetime.now() - t0))\n",
    "    return Y"
   ]
  },
  {
   "cell_type": "code",
   "execution_count": 9,
   "metadata": {},
   "outputs": [],
   "source": [
    "# Getting rid of the Black line on the edge\n",
    "\n",
    "def convole2dNoEdge(X, W):\n",
    "    t0 = datetime.now()\n",
    "    n1, n2 = X.shape\n",
    "    m1, m2 = W.shape\n",
    "    Y = np.zeros((n1+m1 - 1, n2+m2-1))\n",
    "    for i in range(n1):\n",
    "        for j in range(n2):\n",
    "            y[i:i+m1,j:j+m1] += X[i,j]*W\n",
    "    ret = Y[m1-1:-m1+1, m2-1:-m2+1]\n",
    "    print ('Elapsed time:', (datetime.now() - t0))\n",
    "    return Y"
   ]
  },
  {
   "cell_type": "code",
   "execution_count": null,
   "metadata": {},
   "outputs": [],
   "source": [
    "# TODO: Use theano or tensorflow to do this"
   ]
  }
 ],
 "metadata": {
  "kernelspec": {
   "display_name": "Python 3",
   "language": "python",
   "name": "python3"
  },
  "language_info": {
   "codemirror_mode": {
    "name": "ipython",
    "version": 3
   },
   "file_extension": ".py",
   "mimetype": "text/x-python",
   "name": "python",
   "nbconvert_exporter": "python",
   "pygments_lexer": "ipython3",
   "version": "3.6.7"
  }
 },
 "nbformat": 4,
 "nbformat_minor": 2
}
